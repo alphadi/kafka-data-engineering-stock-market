#pip install s3fs (Make sure you have your Amazon S3 bucket setup prior to this step)

from kafka import KafkaConsumer
from time import sleep
from json import dumps,loads
import json
from s3fs import S3FileSystem

consumer = KafkaConsumer(
    'stockproject',
     bootstrap_servers=[':9092'], #insert your IP here
    value_deserializer=lambda x: loads(x.decode('utf-8')))

for count, i in enumerate(consumer):
    with s3.open("s3://kafka-stock-mkt-project//stock_market_{}.json".format(count), 'w') as file:
        json.dump(i.value, file)   
