#pip install kafka (to install Apache Kafka)

import pandas as pd
from kafka import KafkaProducer
from time import sleep
from json import dumps
import json


producer = KafkaProducer(bootstrap_servers=[':9092'], #change ip here
                         value_serializer=lambda x: 
                         dumps(x).encode('utf-8'))


producer.send('stockproject', value={'lastname':'firstname'})

df = pd.read_csv("/indexProcessed.csv") # insert your local filepath 

df.head() #check if data is loaded correctly

while True:
    dict_stock = df.sample(1).to_dict(orient="records")[0]
    producer.send('demo_test', value=dict_stock)
    sleep(1)

producer.flush() #clear data from kafka server
